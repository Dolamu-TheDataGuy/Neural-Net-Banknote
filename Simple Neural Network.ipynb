{
 "cells": [
  {
   "cell_type": "markdown",
   "id": "590af3b7",
   "metadata": {},
   "source": [
    "<h3 style = 'text-align:center;'>Building a Simple Neural Network to predict the Authenticity of a currency Note.</h3>"
   ]
  },
  {
   "cell_type": "markdown",
   "id": "3a593d6d",
   "metadata": {},
   "source": [
    "<img src = 'Images/neural-network.png'/>"
   ]
  },
  {
   "cell_type": "code",
   "execution_count": 31,
   "id": "edaa80aa",
   "metadata": {},
   "outputs": [],
   "source": [
    "import pandas as pd"
   ]
  },
  {
   "cell_type": "code",
   "execution_count": 33,
   "id": "27dfa678",
   "metadata": {},
   "outputs": [
    {
     "data": {
      "text/html": [
       "<div>\n",
       "<style scoped>\n",
       "    .dataframe tbody tr th:only-of-type {\n",
       "        vertical-align: middle;\n",
       "    }\n",
       "\n",
       "    .dataframe tbody tr th {\n",
       "        vertical-align: top;\n",
       "    }\n",
       "\n",
       "    .dataframe thead th {\n",
       "        text-align: right;\n",
       "    }\n",
       "</style>\n",
       "<table border=\"1\" class=\"dataframe\">\n",
       "  <thead>\n",
       "    <tr style=\"text-align: right;\">\n",
       "      <th></th>\n",
       "      <th>variance</th>\n",
       "      <th>skew</th>\n",
       "      <th>curtosis</th>\n",
       "      <th>entropy</th>\n",
       "      <th>class</th>\n",
       "    </tr>\n",
       "  </thead>\n",
       "  <tbody>\n",
       "    <tr>\n",
       "      <th>640</th>\n",
       "      <td>4.16650</td>\n",
       "      <td>-0.4449</td>\n",
       "      <td>0.23448</td>\n",
       "      <td>0.27843</td>\n",
       "      <td>0</td>\n",
       "    </tr>\n",
       "    <tr>\n",
       "      <th>1312</th>\n",
       "      <td>0.55939</td>\n",
       "      <td>-0.3104</td>\n",
       "      <td>0.18307</td>\n",
       "      <td>0.44653</td>\n",
       "      <td>1</td>\n",
       "    </tr>\n",
       "    <tr>\n",
       "      <th>279</th>\n",
       "      <td>1.92650</td>\n",
       "      <td>7.7557</td>\n",
       "      <td>-0.16823</td>\n",
       "      <td>-3.07710</td>\n",
       "      <td>0</td>\n",
       "    </tr>\n",
       "    <tr>\n",
       "      <th>129</th>\n",
       "      <td>3.46630</td>\n",
       "      <td>1.1112</td>\n",
       "      <td>1.74250</td>\n",
       "      <td>1.33880</td>\n",
       "      <td>0</td>\n",
       "    </tr>\n",
       "  </tbody>\n",
       "</table>\n",
       "</div>"
      ],
      "text/plain": [
       "      variance    skew  curtosis  entropy  class\n",
       "640    4.16650 -0.4449   0.23448  0.27843      0\n",
       "1312   0.55939 -0.3104   0.18307  0.44653      1\n",
       "279    1.92650  7.7557  -0.16823 -3.07710      0\n",
       "129    3.46630  1.1112   1.74250  1.33880      0"
      ]
     },
     "execution_count": 33,
     "metadata": {},
     "output_type": "execute_result"
    }
   ],
   "source": [
    "banknote = pd.read_csv('banknote.csv')\n",
    "banknote.sample(4)"
   ]
  },
  {
   "cell_type": "markdown",
   "id": "7796c87a",
   "metadata": {},
   "source": [
    "### Importing Libraries and dependencies"
   ]
  },
  {
   "cell_type": "code",
   "execution_count": 13,
   "id": "ebaf8141",
   "metadata": {},
   "outputs": [],
   "source": [
    "import csv\n",
    "import tensorflow as tf"
   ]
  },
  {
   "cell_type": "code",
   "execution_count": 14,
   "id": "446bb02a",
   "metadata": {},
   "outputs": [],
   "source": [
    "from sklearn.model_selection import train_test_split"
   ]
  },
  {
   "cell_type": "markdown",
   "id": "37bf504a",
   "metadata": {},
   "source": [
    "### Read Data into file"
   ]
  },
  {
   "cell_type": "code",
   "execution_count": 15,
   "id": "e5678f9c",
   "metadata": {},
   "outputs": [],
   "source": [
    "with open('banknote.csv') as p:\n",
    "    reader = csv.reader(p)\n",
    "    next(reader)\n",
    "    \n",
    "    data = []\n",
    "    for peace in reader:\n",
    "        data.append({'evidence':[float(cell) for cell in peace[:4]],\n",
    "                    'label': 1 if peace[4] == '0' else 0})"
   ]
  },
  {
   "cell_type": "markdown",
   "id": "42133596",
   "metadata": {},
   "source": [
    "### Seperating data into training and testing groups"
   ]
  },
  {
   "cell_type": "code",
   "execution_count": 16,
   "id": "9942ed5c",
   "metadata": {},
   "outputs": [],
   "source": [
    "evidence = [peace['evidence'] for peace in data]\n",
    "label = [peace['label'] for peace in data]\n",
    "X_train, X_test,y_train,y_test = train_test_split(evidence,label,test_size=0.4)"
   ]
  },
  {
   "cell_type": "code",
   "execution_count": 30,
   "id": "298fc3d3",
   "metadata": {},
   "outputs": [],
   "source": [
    "#evidence"
   ]
  },
  {
   "cell_type": "code",
   "execution_count": 29,
   "id": "b6b4106b",
   "metadata": {},
   "outputs": [],
   "source": [
    "#label"
   ]
  },
  {
   "cell_type": "markdown",
   "id": "7f17f926",
   "metadata": {},
   "source": [
    "### Create a Neural Network"
   ]
  },
  {
   "cell_type": "code",
   "execution_count": 17,
   "id": "578e235c",
   "metadata": {},
   "outputs": [],
   "source": [
    "#Container for layers\n",
    "model = tf.keras.models.Sequential()"
   ]
  },
  {
   "cell_type": "code",
   "execution_count": 18,
   "id": "196ad6ed",
   "metadata": {},
   "outputs": [],
   "source": [
    "#Add a hidden layer with 8 units, with ReLu activation function.\n",
    "model.add(tf.keras.layers.Dense(8, input_shape =(4,),activation='relu'))"
   ]
  },
  {
   "cell_type": "code",
   "execution_count": 19,
   "id": "31c454fc",
   "metadata": {},
   "outputs": [],
   "source": [
    "#Add an output layer with 1 units, with sigmoid activation function.\n",
    "model.add(tf.keras.layers.Dense(1,activation='sigmoid'))"
   ]
  },
  {
   "cell_type": "markdown",
   "id": "da97fab6",
   "metadata": {},
   "source": [
    "### Train the Neural Network"
   ]
  },
  {
   "cell_type": "code",
   "execution_count": 20,
   "id": "bc932061",
   "metadata": {},
   "outputs": [
    {
     "name": "stdout",
     "output_type": "stream",
     "text": [
      "Epoch 1/20\n",
      "26/26 [==============================] - 2s 6ms/step - loss: 1.3176 - accuracy: 0.4945\n",
      "Epoch 2/20\n",
      "26/26 [==============================] - 0s 4ms/step - loss: 0.9584 - accuracy: 0.5553\n",
      "Epoch 3/20\n",
      "26/26 [==============================] - 0s 4ms/step - loss: 0.6865 - accuracy: 0.6756\n",
      "Epoch 4/20\n",
      "26/26 [==============================] - 0s 4ms/step - loss: 0.5103 - accuracy: 0.7861\n",
      "Epoch 5/20\n",
      "26/26 [==============================] - 0s 4ms/step - loss: 0.4106 - accuracy: 0.8712\n",
      "Epoch 6/20\n",
      "26/26 [==============================] - 0s 4ms/step - loss: 0.3579 - accuracy: 0.9052\n",
      "Epoch 7/20\n",
      "26/26 [==============================] - 0s 4ms/step - loss: 0.3257 - accuracy: 0.9307\n",
      "Epoch 8/20\n",
      "26/26 [==============================] - 0s 4ms/step - loss: 0.3016 - accuracy: 0.9478\n",
      "Epoch 9/20\n",
      "26/26 [==============================] - 0s 4ms/step - loss: 0.2819 - accuracy: 0.9526\n",
      "Epoch 10/20\n",
      "26/26 [==============================] - 0s 4ms/step - loss: 0.2641 - accuracy: 0.9526\n",
      "Epoch 11/20\n",
      "26/26 [==============================] - 0s 4ms/step - loss: 0.2478 - accuracy: 0.9563\n",
      "Epoch 12/20\n",
      "26/26 [==============================] - 0s 4ms/step - loss: 0.2329 - accuracy: 0.9587\n",
      "Epoch 13/20\n",
      "26/26 [==============================] - 0s 4ms/step - loss: 0.2190 - accuracy: 0.9599\n",
      "Epoch 14/20\n",
      "26/26 [==============================] - 0s 4ms/step - loss: 0.2059 - accuracy: 0.9611\n",
      "Epoch 15/20\n",
      "26/26 [==============================] - 0s 4ms/step - loss: 0.1937 - accuracy: 0.9660\n",
      "Epoch 16/20\n",
      "26/26 [==============================] - 0s 4ms/step - loss: 0.1821 - accuracy: 0.9696\n",
      "Epoch 17/20\n",
      "26/26 [==============================] - 0s 4ms/step - loss: 0.1713 - accuracy: 0.9696\n",
      "Epoch 18/20\n",
      "26/26 [==============================] - 0s 4ms/step - loss: 0.1613 - accuracy: 0.9696\n",
      "Epoch 19/20\n",
      "26/26 [==============================] - 0s 4ms/step - loss: 0.1522 - accuracy: 0.9793\n",
      "Epoch 20/20\n",
      "26/26 [==============================] - 0s 4ms/step - loss: 0.1437 - accuracy: 0.9806\n",
      "18/18 - 1s - loss: 0.1231 - accuracy: 0.9909 - 572ms/epoch - 32ms/step\n"
     ]
    },
    {
     "data": {
      "text/plain": [
       "[0.12313269078731537, 0.9908925294876099]"
      ]
     },
     "execution_count": 20,
     "metadata": {},
     "output_type": "execute_result"
    }
   ],
   "source": [
    "model.compile(\n",
    "    optimizer = 'adam',\n",
    "    loss = 'binary_crossentropy',\n",
    "    metrics= ['accuracy']\n",
    ")\n",
    "model.fit(X_train,y_train, epochs=20)\n",
    "\n",
    "#Lets see how well the model performs\n",
    "model.evaluate(X_test, y_test, verbose = 2)"
   ]
  },
  {
   "cell_type": "markdown",
   "id": "a608f778",
   "metadata": {},
   "source": [
    "We can see from the results above that the model performs well with an accuracy of 99.09% and loss of 0.123, and we can notice a significant increase in the accuracy of our training process"
   ]
  }
 ],
 "metadata": {
  "kernelspec": {
   "display_name": "Python 3",
   "language": "python",
   "name": "python3"
  },
  "language_info": {
   "codemirror_mode": {
    "name": "ipython",
    "version": 3
   },
   "file_extension": ".py",
   "mimetype": "text/x-python",
   "name": "python",
   "nbconvert_exporter": "python",
   "pygments_lexer": "ipython3",
   "version": "3.8.8"
  }
 },
 "nbformat": 4,
 "nbformat_minor": 5
}
